{
  "metadata": {
    "language_info": {
      "codemirror_mode": {
        "name": "python",
        "version": 3
      },
      "file_extension": ".py",
      "mimetype": "text/x-python",
      "name": "python",
      "nbconvert_exporter": "python",
      "pygments_lexer": "ipython3",
      "version": "3.8"
    },
    "kernelspec": {
      "name": "python",
      "display_name": "Python (Pyodide)",
      "language": "python"
    }
  },
  "nbformat_minor": 4,
  "nbformat": 4,
  "cells": [
    {
      "cell_type": "code",
      "source": "from amplpy import AMPL\n\n# Create an AMPL instance\nampl = AMPL()\n\n# Load the model \nampl.read(“cutting.mod\")\n          \n\n# Load the data from pandas.DataFrame objects:\nWIDTHS_df, ORDERS_df, roll_width_df = prepare_data()\n# 1. Send the data from \"amt_df\" to AMPL and initialize the indexing set “WIDTH\"\nampl.set_data(WIDTH_df, “WIDTH\")\n# 2. Send the data from \"ORDERS_df\" to AMPL and initialize the indexing set \"ORDERS\"\nampl.set_data(ORDERS_df, \"ORDERS\")\n# 3. Set the values for the parameter \"amt\" using “roll_width_df\"\nampl.get_parameter(\"amt\").set_values(amt_df.unstack())\n              \n#Can also load data normally using ampl.read(\"cutting.dat\")\n\n# Specify the solver to use \nampl.option[\"solver\"] = “cplex\"\n# Solve\nampl.solve()\n# Stop if the model was not solved\n",
      "metadata": {},
      "execution_count": null,
      "outputs": []
    }
  ]
}